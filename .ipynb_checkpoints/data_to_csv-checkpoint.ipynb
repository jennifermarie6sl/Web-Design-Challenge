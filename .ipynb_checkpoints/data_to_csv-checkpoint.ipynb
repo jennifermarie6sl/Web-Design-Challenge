{
 "cells": [
  {
   "cell_type": "code",
   "execution_count": 4,
   "id": "0d7c4a0f",
   "metadata": {},
   "outputs": [],
   "source": [
    "import os\n",
    "import pandas as pd"
   ]
  },
  {
   "cell_type": "code",
   "execution_count": 6,
   "id": "2f458c95",
   "metadata": {},
   "outputs": [],
   "source": [
    "csv_path = os.path.join(\"Resources\", \"cities.csv\")\n",
    "cities_csv = pd.read_csv(csv_path)"
   ]
  },
  {
   "cell_type": "code",
   "execution_count": 8,
   "id": "478d257c",
   "metadata": {},
   "outputs": [],
   "source": [
    "cities_csv.to_html(\"data1.html\", index=False)"
   ]
  },
  {
   "cell_type": "code",
   "execution_count": null,
   "id": "05a4f9a6",
   "metadata": {},
   "outputs": [],
   "source": []
  }
 ],
 "metadata": {
  "kernelspec": {
   "display_name": "Python 3",
   "language": "python",
   "name": "python3"
  },
  "language_info": {
   "codemirror_mode": {
    "name": "ipython",
    "version": 3
   },
   "file_extension": ".py",
   "mimetype": "text/x-python",
   "name": "python",
   "nbconvert_exporter": "python",
   "pygments_lexer": "ipython3",
   "version": "3.8.8"
  }
 },
 "nbformat": 4,
 "nbformat_minor": 5
}
